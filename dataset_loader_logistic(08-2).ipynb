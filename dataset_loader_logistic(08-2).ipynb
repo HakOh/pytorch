{
 "cells": [
  {
   "cell_type": "code",
   "execution_count": 1,
   "metadata": {},
   "outputs": [],
   "source": [
    "import torch\n",
    "import numpy as np\n",
    "from torch.autograd import Variable\n",
    "from torch.utils.data import Dataset, DataLoader"
   ]
  },
  {
   "cell_type": "code",
   "execution_count": 6,
   "metadata": {},
   "outputs": [],
   "source": [
    "class DiabetesDataset(Dataset):\n",
    "\n",
    "    def __init__(self):\n",
    "        xy = np.loadtxt('./data/diabetes.csv',\n",
    "                        delimiter=',', dtype=np.float32)\n",
    "        self.len = xy.shape[0]\n",
    "        self.x_data = torch.from_numpy(xy[:, 0:-1])\n",
    "        self.y_data = torch.from_numpy(xy[:, [-1]])\n",
    "\n",
    "    def __getitem__(self, index):\n",
    "        return self.x_data[index], self.y_data[index]\n",
    "\n",
    "    def __len__(self):\n",
    "        return self.len"
   ]
  },
  {
   "cell_type": "code",
   "execution_count": 7,
   "metadata": {},
   "outputs": [],
   "source": [
    "dataset = DiabetesDataset()\n",
    "train_loader = DataLoader(dataset=dataset,\n",
    "                          batch_size=32,\n",
    "                          shuffle=True,\n",
    "                          num_workers=2)"
   ]
  },
  {
   "cell_type": "code",
   "execution_count": 8,
   "metadata": {},
   "outputs": [],
   "source": [
    "class Model(torch.nn.Module):\n",
    "\n",
    "    def __init__(self):\n",
    "       \n",
    "        super(Model, self).__init__()\n",
    "        self.l1 = torch.nn.Linear(8, 6)\n",
    "        self.l2 = torch.nn.Linear(6, 4)\n",
    "        self.l3 = torch.nn.Linear(4, 1)\n",
    "\n",
    "        self.sigmoid = torch.nn.Sigmoid()\n",
    "\n",
    "    def forward(self, x):\n",
    "       \n",
    "        out1 = self.sigmoid(self.l1(x))\n",
    "        out2 = self.sigmoid(self.l2(out1))\n",
    "        y_pred = self.sigmoid(self.l3(out2))\n",
    "        return y_pred\n"
   ]
  },
  {
   "cell_type": "code",
   "execution_count": 11,
   "metadata": {},
   "outputs": [],
   "source": [
    "model = Model()\n",
    "criterion = torch.nn.BCELoss(size_average = True)\n",
    "optimizer = torch.optim.SGD(model.parameters(), lr = 0.1)\n"
   ]
  },
  {
   "cell_type": "code",
   "execution_count": 12,
   "metadata": {},
   "outputs": [
    {
     "name": "stdout",
     "output_type": "stream",
     "text": [
      "0 0 0.6354717016220093\n",
      "0 1 0.6490317583084106\n",
      "0 2 0.6338074207305908\n",
      "0 3 0.6177566051483154\n",
      "0 4 0.6784527897834778\n",
      "0 5 0.6470551490783691\n",
      "0 6 0.5835074186325073\n",
      "0 7 0.6631443500518799\n",
      "0 8 0.6634662747383118\n",
      "0 9 0.6460146903991699\n",
      "0 10 0.5610989928245544\n",
      "0 11 0.7170529961585999\n",
      "0 12 0.5761693120002747\n",
      "0 13 0.6822566986083984\n",
      "0 14 0.6091432571411133\n",
      "0 15 0.7370612621307373\n",
      "0 16 0.6103587746620178\n",
      "0 17 0.6631789803504944\n",
      "0 18 0.6086480617523193\n",
      "0 19 0.7385861873626709\n",
      "0 20 0.59317547082901\n",
      "0 21 0.6638690829277039\n",
      "0 22 0.6995939016342163\n",
      "0 23 0.7203684449195862\n",
      "1 0 0.6457386612892151\n",
      "1 1 0.6798864006996155\n",
      "1 2 0.646658718585968\n",
      "1 3 0.6290611028671265\n",
      "1 4 0.6283162832260132\n",
      "1 5 0.6451624631881714\n",
      "1 6 0.6795076727867126\n",
      "1 7 0.679696798324585\n",
      "1 8 0.6798257231712341\n",
      "1 9 0.6454935073852539\n",
      "1 10 0.6295945644378662\n",
      "1 11 0.6457046270370483\n",
      "1 12 0.6455418467521667\n",
      "1 13 0.7340214252471924\n",
      "1 14 0.6452550888061523\n",
      "1 15 0.6286975145339966\n",
      "1 16 0.6289315819740295\n",
      "1 17 0.5397250652313232\n",
      "1 18 0.6640042662620544\n",
      "1 19 0.6629811525344849\n",
      "1 20 0.6825352907180786\n",
      "1 21 0.6271165013313293\n",
      "1 22 0.588909387588501\n",
      "1 23 0.6474953293800354\n"
     ]
    }
   ],
   "source": [
    "#Training loop\n",
    "\n",
    "for epoch in range(2):\n",
    "    for i, data in enumerate(train_loader, 0):\n",
    "        inputs, labels = data\n",
    "        \n",
    "        inputs, labels = Variable(inputs), Variable(labels)\n",
    "        \n",
    "        y_pred = model(inputs)\n",
    "        \n",
    "        loss = criterion(y_pred, labels)\n",
    "        print(epoch, i, loss.data[0])\n",
    "        \n",
    "        optimizer.zero_grad()\n",
    "        loss.backward()\n",
    "        optimizer.step()"
   ]
  },
  {
   "cell_type": "code",
   "execution_count": null,
   "metadata": {},
   "outputs": [],
   "source": []
  }
 ],
 "metadata": {
  "kernelspec": {
   "display_name": "Python 3",
   "language": "python",
   "name": "python3"
  },
  "language_info": {
   "codemirror_mode": {
    "name": "ipython",
    "version": 3
   },
   "file_extension": ".py",
   "mimetype": "text/x-python",
   "name": "python",
   "nbconvert_exporter": "python",
   "pygments_lexer": "ipython3",
   "version": "3.6.3"
  }
 },
 "nbformat": 4,
 "nbformat_minor": 2
}
